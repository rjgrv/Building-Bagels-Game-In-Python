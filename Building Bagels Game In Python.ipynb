{
 "cells": [
  {
   "cell_type": "markdown",
   "id": "dbb1472f",
   "metadata": {},
   "source": [
    "# bagels.py"
   ]
  },
  {
   "cell_type": "code",
   "execution_count": 1,
   "id": "d3d96a9e",
   "metadata": {},
   "outputs": [
    {
     "name": "stdout",
     "output_type": "stream",
     "text": [
      "Bagels, a deductive logic game.\n",
      "By RAJ GAURAV (2241007011)\n",
      "I am thinking of a 3-digit number. Try to guess what it is.\n",
      "Here are some clues:\n",
      "When I say:\t That means:\n",
      "  Pico\t\t One digit is correct but in the wrong position.\n",
      "  Fermi\t\t One digit is correct and in the right position.\n",
      "  Bagels\t No digit is correct.\n",
      "I have thought up a number.\n",
      "  You have 10 guesses to get it\n",
      "Guess #1: 123\n",
      "Pico Pico\n",
      "Guess #2: 124\n",
      "Pico\n",
      "Guess #3: 235\n",
      "Fermi\n",
      "Guess #4: 267\n",
      "Pico\n",
      "Guess #5: 367\n",
      "Pico Pico\n",
      "Guess #6: 637\n",
      "Fermi Fermi\n",
      "Guess #7: 638\n",
      "Fermi Fermi\n",
      "Guess #8: 639\n",
      "Fermi Fermi\n",
      "Guess #9: 630\n",
      "Fermi Fermi\n",
      "Guess #10: 632\n",
      "Fermi Fermi\n",
      "Sorry! You ran out of Attempts! The Secret Number was 631\n",
      "Do you want to play again Type (Yes or No): no\n",
      "Thanks For Playing!\n"
     ]
    }
   ],
   "source": [
    "import random\n",
    "print(\"Bagels, a deductive logic game.\",flush=True)\n",
    "print(\"By RAJ GAURAV (2241007011)\",flush=True)\n",
    "print(\"I am thinking of a 3-digit number. Try to guess what it is.\\\n",
    "\\nHere are some clues:\\\n",
    "\\nWhen I say:\\t That means:\\\n",
    "\\n  Pico\\t\\t One digit is correct but in the wrong position.\\\n",
    "\\n  Fermi\\t\\t One digit is correct and in the right position.\\\n",
    "\\n  Bagels\\t No digit is correct.\\\n",
    "\\nI have thought up a number.\\\n",
    "\\n  You have 10 guesses to get it\",flush=True)\n",
    "\n",
    "def generate_secret_number():\n",
    "    return ''.join(random.sample(\"0123456789\",3))\n",
    "\n",
    "def provide_hint(secret_number, guess):\n",
    "    hint = ''\n",
    "    for i in range(3):\n",
    "        if guess[i] == secret_number[i]:\n",
    "            hint += 'Fermi '\n",
    "        elif guess[i] in secret_number:\n",
    "            hint += 'Pico '\n",
    "    if not hint:\n",
    "        hint = 'Bagels'\n",
    "    return hint.strip()\n",
    "\n",
    "def play_game():\n",
    "    secret_number = generate_secret_number()   \n",
    "    attempts = 10\n",
    "    while attempts > 0:\n",
    "        guess = input(f\"Guess #{11 - attempts}: \")\n",
    "        while (len(guess) != 3):\n",
    "            print(\"Please, Enter a valid 3-Digit number: \")\n",
    "            guess = input(f\"Guess #{11 - attempts}: \")\n",
    "            \n",
    "         \n",
    "        hint = provide_hint(secret_number, guess)\n",
    "        print(f\"{hint}\")\n",
    "        if hint == \"Fermi Fermi Fermi\":\n",
    "            print(f\"You Got It!!\")\n",
    "            break\n",
    "        \n",
    "        attempts -= 1  \n",
    "        if attempts == 0:\n",
    "            print(f\"Sorry! You ran out of Attempts! The Secret Number was {secret_number}\")\n",
    "def main():\n",
    "    while True:\n",
    "        play_game()\n",
    "        play_again = input(f\"Do you want to play again Type (Yes or No): \").lower()\n",
    "        if play_again != \"yes\":\n",
    "            print(\"Thanks For Playing!\")\n",
    "            break\n",
    "main()"
   ]
  }
 ],
 "metadata": {
  "kernelspec": {
   "display_name": "Python 3 (ipykernel)",
   "language": "python",
   "name": "python3"
  },
  "language_info": {
   "codemirror_mode": {
    "name": "ipython",
    "version": 3
   },
   "file_extension": ".py",
   "mimetype": "text/x-python",
   "name": "python",
   "nbconvert_exporter": "python",
   "pygments_lexer": "ipython3",
   "version": "3.11.5"
  }
 },
 "nbformat": 4,
 "nbformat_minor": 5
}
